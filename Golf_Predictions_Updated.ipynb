{
  "nbformat": 4,
  "nbformat_minor": 0,
  "metadata": {
    "colab": {
      "name": "Golf Predictions - Updated.ipynb",
      "version": "0.3.2",
      "provenance": [],
      "collapsed_sections": [],
      "include_colab_link": true
    },
    "kernelspec": {
      "name": "python3",
      "display_name": "Python 3"
    }
  },
  "cells": [
    {
      "cell_type": "markdown",
      "metadata": {
        "id": "view-in-github",
        "colab_type": "text"
      },
      "source": [
        "<a href=\"https://colab.research.google.com/github/glen-im/hello-world/blob/master/Golf_Predictions_Updated.ipynb\" target=\"_parent\"><img src=\"https://colab.research.google.com/assets/colab-badge.svg\" alt=\"Open In Colab\"/></a>"
      ]
    },
    {
      "metadata": {
        "id": "4WWIpc11k0Rn",
        "colab_type": "code",
        "outputId": "238b6947-386e-4f5b-cbfd-e4ea0bf70e15",
        "colab": {
          "base_uri": "https://localhost:8080/",
          "height": 67
        }
      },
      "cell_type": "code",
      "source": [
        "print (\"Hello Tracy, I would like to order a pizza.\")\n",
        "print (\"Do you understand what is happening?\")\n",
        "print (\"Goodbye\")"
      ],
      "execution_count": 0,
      "outputs": [
        {
          "output_type": "stream",
          "text": [
            "Hello Tracy, I would like to order a pizza.\n",
            "Do you understand what is happening?\n",
            "Goodbye\n"
          ],
          "name": "stdout"
        }
      ]
    },
    {
      "metadata": {
        "id": "3G9ot06lExUF",
        "colab_type": "code",
        "colab": {}
      },
      "cell_type": "code",
      "source": [
        ""
      ],
      "execution_count": 0,
      "outputs": []
    },
    {
      "metadata": {
        "id": "2AIHT3uk_Gwr",
        "colab_type": "code",
        "colab": {}
      },
      "cell_type": "code",
      "source": [
        "from sklearn import tree\n",
        "import pandas as pd"
      ],
      "execution_count": 0,
      "outputs": []
    },
    {
      "metadata": {
        "id": "PkiiaPR4_HA3",
        "colab_type": "code",
        "colab": {}
      },
      "cell_type": "code",
      "source": [
        ""
      ],
      "execution_count": 0,
      "outputs": []
    },
    {
      "metadata": {
        "id": "_1QF14cGl13S",
        "colab_type": "text"
      },
      "cell_type": "markdown",
      "source": [
        "Seed and Target Data"
      ]
    },
    {
      "metadata": {
        "id": "LOLLnZlelwrT",
        "colab_type": "code",
        "outputId": "caf8dcbd-8c7c-476a-d950-94bec33b321b",
        "colab": {
          "base_uri": "https://localhost:8080/",
          "height": 359
        }
      },
      "cell_type": "code",
      "source": [
        "#create empty data frame\n",
        "golf_df = pd.DataFrame()\n",
        "\n",
        "#add outlook\n",
        "golf_df['Outlook'] = ['sunny', 'sunny', 'overcast', 'rainy', 'rainy', 'rainy', \n",
        "                     'overcast', 'sunny', 'sunny', 'rainy', 'sunny', 'overcast',\n",
        "                     'overcast', 'rainy']\n",
        "\n",
        "#add temperature\n",
        "golf_df['Temperature'] = [92, 86, 83, 70, 60, 53, 62,\n",
        "                         75, 57, 72, 78, 69, 81, 71]\n",
        "\n",
        "#add humidity\n",
        "golf_df['Humidity'] = [40.3, 63.1, 35.3, 86.3, 72.4, 22.7, 27.0,\n",
        "                      80.7, 15.4, 25.1, 18.6, 58.3, 27.2, 39.3]\n",
        "\n",
        "#add windy\n",
        "golf_df['Windy'] = ['false', 'true', 'false', 'false', 'false', 'true', 'true',\n",
        "                   'false', 'false', 'false', 'true', 'true', 'false', 'true']\n",
        "\n",
        "#finally add play\n",
        "golf_df['Play'] = ['no', 'no', 'yes', 'yes', 'yes', 'no', 'yes', 'no', 'yes', 'yes', 'yes', \n",
        "                  'yes', 'yes', 'no']\n",
        "golf_df.head(10) "
      ],
      "execution_count": 0,
      "outputs": [
        {
          "output_type": "execute_result",
          "data": {
            "text/html": [
              "<div>\n",
              "<style scoped>\n",
              "    .dataframe tbody tr th:only-of-type {\n",
              "        vertical-align: middle;\n",
              "    }\n",
              "\n",
              "    .dataframe tbody tr th {\n",
              "        vertical-align: top;\n",
              "    }\n",
              "\n",
              "    .dataframe thead th {\n",
              "        text-align: right;\n",
              "    }\n",
              "</style>\n",
              "<table border=\"1\" class=\"dataframe\">\n",
              "  <thead>\n",
              "    <tr style=\"text-align: right;\">\n",
              "      <th></th>\n",
              "      <th>Outlook</th>\n",
              "      <th>Temperature</th>\n",
              "      <th>Humidity</th>\n",
              "      <th>Windy</th>\n",
              "      <th>Play</th>\n",
              "    </tr>\n",
              "  </thead>\n",
              "  <tbody>\n",
              "    <tr>\n",
              "      <th>0</th>\n",
              "      <td>sunny</td>\n",
              "      <td>92</td>\n",
              "      <td>40.3</td>\n",
              "      <td>false</td>\n",
              "      <td>no</td>\n",
              "    </tr>\n",
              "    <tr>\n",
              "      <th>1</th>\n",
              "      <td>sunny</td>\n",
              "      <td>86</td>\n",
              "      <td>63.1</td>\n",
              "      <td>true</td>\n",
              "      <td>no</td>\n",
              "    </tr>\n",
              "    <tr>\n",
              "      <th>2</th>\n",
              "      <td>overcast</td>\n",
              "      <td>83</td>\n",
              "      <td>35.3</td>\n",
              "      <td>false</td>\n",
              "      <td>yes</td>\n",
              "    </tr>\n",
              "    <tr>\n",
              "      <th>3</th>\n",
              "      <td>rainy</td>\n",
              "      <td>70</td>\n",
              "      <td>86.3</td>\n",
              "      <td>false</td>\n",
              "      <td>yes</td>\n",
              "    </tr>\n",
              "    <tr>\n",
              "      <th>4</th>\n",
              "      <td>rainy</td>\n",
              "      <td>60</td>\n",
              "      <td>72.4</td>\n",
              "      <td>false</td>\n",
              "      <td>yes</td>\n",
              "    </tr>\n",
              "    <tr>\n",
              "      <th>5</th>\n",
              "      <td>rainy</td>\n",
              "      <td>53</td>\n",
              "      <td>22.7</td>\n",
              "      <td>true</td>\n",
              "      <td>no</td>\n",
              "    </tr>\n",
              "    <tr>\n",
              "      <th>6</th>\n",
              "      <td>overcast</td>\n",
              "      <td>62</td>\n",
              "      <td>27.0</td>\n",
              "      <td>true</td>\n",
              "      <td>yes</td>\n",
              "    </tr>\n",
              "    <tr>\n",
              "      <th>7</th>\n",
              "      <td>sunny</td>\n",
              "      <td>75</td>\n",
              "      <td>80.7</td>\n",
              "      <td>false</td>\n",
              "      <td>no</td>\n",
              "    </tr>\n",
              "    <tr>\n",
              "      <th>8</th>\n",
              "      <td>sunny</td>\n",
              "      <td>57</td>\n",
              "      <td>15.4</td>\n",
              "      <td>false</td>\n",
              "      <td>yes</td>\n",
              "    </tr>\n",
              "    <tr>\n",
              "      <th>9</th>\n",
              "      <td>rainy</td>\n",
              "      <td>72</td>\n",
              "      <td>25.1</td>\n",
              "      <td>false</td>\n",
              "      <td>yes</td>\n",
              "    </tr>\n",
              "  </tbody>\n",
              "</table>\n",
              "</div>"
            ],
            "text/plain": [
              "    Outlook  Temperature  Humidity  Windy Play\n",
              "0     sunny           92      40.3  false   no\n",
              "1     sunny           86      63.1   true   no\n",
              "2  overcast           83      35.3  false  yes\n",
              "3     rainy           70      86.3  false  yes\n",
              "4     rainy           60      72.4  false  yes\n",
              "5     rainy           53      22.7   true   no\n",
              "6  overcast           62      27.0   true  yes\n",
              "7     sunny           75      80.7  false   no\n",
              "8     sunny           57      15.4  false  yes\n",
              "9     rainy           72      25.1  false  yes"
            ]
          },
          "metadata": {
            "tags": []
          },
          "execution_count": 3
        }
      ]
    },
    {
      "metadata": {
        "id": "FWrZyNN7nQgf",
        "colab_type": "code",
        "outputId": "f80b5c35-29d1-4e92-80de-56a8921da624",
        "colab": {
          "base_uri": "https://localhost:8080/",
          "height": 272
        }
      },
      "cell_type": "code",
      "source": [
        "print(golf_df)"
      ],
      "execution_count": 0,
      "outputs": [
        {
          "output_type": "stream",
          "text": [
            "     Outlook  Temperature  Humidity  Windy Play\n",
            "0      sunny           92      40.3  false   no\n",
            "1      sunny           86      63.1   true   no\n",
            "2   overcast           83      35.3  false  yes\n",
            "3      rainy           70      86.3  false  yes\n",
            "4      rainy           60      72.4  false  yes\n",
            "5      rainy           53      22.7   true   no\n",
            "6   overcast           62      27.0   true  yes\n",
            "7      sunny           75      80.7  false   no\n",
            "8      sunny           57      15.4  false  yes\n",
            "9      rainy           72      25.1  false  yes\n",
            "10     sunny           78      18.6   true  yes\n",
            "11  overcast           69      58.3   true  yes\n",
            "12  overcast           81      27.2  false  yes\n",
            "13     rainy           71      39.3   true   no\n"
          ],
          "name": "stdout"
        }
      ]
    },
    {
      "metadata": {
        "id": "bsdvzX-AKP6V",
        "colab_type": "code",
        "outputId": "f2604e72-d76a-4e15-8b19-15dac205dcac",
        "colab": {
          "base_uri": "https://localhost:8080/",
          "height": 483
        }
      },
      "cell_type": "code",
      "source": [
        "one_hot_data = pd.get_dummies(golf_df[['Outlook', 'Windy']])  # get_dummies\n",
        "one_hot_data"
      ],
      "execution_count": 0,
      "outputs": [
        {
          "output_type": "execute_result",
          "data": {
            "text/html": [
              "<div>\n",
              "<style scoped>\n",
              "    .dataframe tbody tr th:only-of-type {\n",
              "        vertical-align: middle;\n",
              "    }\n",
              "\n",
              "    .dataframe tbody tr th {\n",
              "        vertical-align: top;\n",
              "    }\n",
              "\n",
              "    .dataframe thead th {\n",
              "        text-align: right;\n",
              "    }\n",
              "</style>\n",
              "<table border=\"1\" class=\"dataframe\">\n",
              "  <thead>\n",
              "    <tr style=\"text-align: right;\">\n",
              "      <th></th>\n",
              "      <th>Outlook_overcast</th>\n",
              "      <th>Outlook_rainy</th>\n",
              "      <th>Outlook_sunny</th>\n",
              "      <th>Windy_false</th>\n",
              "      <th>Windy_true</th>\n",
              "    </tr>\n",
              "  </thead>\n",
              "  <tbody>\n",
              "    <tr>\n",
              "      <th>0</th>\n",
              "      <td>0</td>\n",
              "      <td>0</td>\n",
              "      <td>1</td>\n",
              "      <td>1</td>\n",
              "      <td>0</td>\n",
              "    </tr>\n",
              "    <tr>\n",
              "      <th>1</th>\n",
              "      <td>0</td>\n",
              "      <td>0</td>\n",
              "      <td>1</td>\n",
              "      <td>0</td>\n",
              "      <td>1</td>\n",
              "    </tr>\n",
              "    <tr>\n",
              "      <th>2</th>\n",
              "      <td>1</td>\n",
              "      <td>0</td>\n",
              "      <td>0</td>\n",
              "      <td>1</td>\n",
              "      <td>0</td>\n",
              "    </tr>\n",
              "    <tr>\n",
              "      <th>3</th>\n",
              "      <td>0</td>\n",
              "      <td>1</td>\n",
              "      <td>0</td>\n",
              "      <td>1</td>\n",
              "      <td>0</td>\n",
              "    </tr>\n",
              "    <tr>\n",
              "      <th>4</th>\n",
              "      <td>0</td>\n",
              "      <td>1</td>\n",
              "      <td>0</td>\n",
              "      <td>1</td>\n",
              "      <td>0</td>\n",
              "    </tr>\n",
              "    <tr>\n",
              "      <th>5</th>\n",
              "      <td>0</td>\n",
              "      <td>1</td>\n",
              "      <td>0</td>\n",
              "      <td>0</td>\n",
              "      <td>1</td>\n",
              "    </tr>\n",
              "    <tr>\n",
              "      <th>6</th>\n",
              "      <td>1</td>\n",
              "      <td>0</td>\n",
              "      <td>0</td>\n",
              "      <td>0</td>\n",
              "      <td>1</td>\n",
              "    </tr>\n",
              "    <tr>\n",
              "      <th>7</th>\n",
              "      <td>0</td>\n",
              "      <td>0</td>\n",
              "      <td>1</td>\n",
              "      <td>1</td>\n",
              "      <td>0</td>\n",
              "    </tr>\n",
              "    <tr>\n",
              "      <th>8</th>\n",
              "      <td>0</td>\n",
              "      <td>0</td>\n",
              "      <td>1</td>\n",
              "      <td>1</td>\n",
              "      <td>0</td>\n",
              "    </tr>\n",
              "    <tr>\n",
              "      <th>9</th>\n",
              "      <td>0</td>\n",
              "      <td>1</td>\n",
              "      <td>0</td>\n",
              "      <td>1</td>\n",
              "      <td>0</td>\n",
              "    </tr>\n",
              "    <tr>\n",
              "      <th>10</th>\n",
              "      <td>0</td>\n",
              "      <td>0</td>\n",
              "      <td>1</td>\n",
              "      <td>0</td>\n",
              "      <td>1</td>\n",
              "    </tr>\n",
              "    <tr>\n",
              "      <th>11</th>\n",
              "      <td>1</td>\n",
              "      <td>0</td>\n",
              "      <td>0</td>\n",
              "      <td>0</td>\n",
              "      <td>1</td>\n",
              "    </tr>\n",
              "    <tr>\n",
              "      <th>12</th>\n",
              "      <td>1</td>\n",
              "      <td>0</td>\n",
              "      <td>0</td>\n",
              "      <td>1</td>\n",
              "      <td>0</td>\n",
              "    </tr>\n",
              "    <tr>\n",
              "      <th>13</th>\n",
              "      <td>0</td>\n",
              "      <td>1</td>\n",
              "      <td>0</td>\n",
              "      <td>0</td>\n",
              "      <td>1</td>\n",
              "    </tr>\n",
              "  </tbody>\n",
              "</table>\n",
              "</div>"
            ],
            "text/plain": [
              "    Outlook_overcast  Outlook_rainy  Outlook_sunny  Windy_false  Windy_true\n",
              "0                  0              0              1            1           0\n",
              "1                  0              0              1            0           1\n",
              "2                  1              0              0            1           0\n",
              "3                  0              1              0            1           0\n",
              "4                  0              1              0            1           0\n",
              "5                  0              1              0            0           1\n",
              "6                  1              0              0            0           1\n",
              "7                  0              0              1            1           0\n",
              "8                  0              0              1            1           0\n",
              "9                  0              1              0            1           0\n",
              "10                 0              0              1            0           1\n",
              "11                 1              0              0            0           1\n",
              "12                 1              0              0            1           0\n",
              "13                 0              1              0            0           1"
            ]
          },
          "metadata": {
            "tags": []
          },
          "execution_count": 5
        }
      ]
    },
    {
      "metadata": {
        "id": "ObJLrtmcLdWf",
        "colab_type": "code",
        "outputId": "a9d4df90-cbb6-4b80-88af-6cb2ccc4ddf6",
        "colab": {
          "base_uri": "https://localhost:8080/",
          "height": 483
        }
      },
      "cell_type": "code",
      "source": [
        "# join the continuous data with one hot data using pandas .join()\n",
        "golf_one_hot = golf_df[['Temperature', 'Humidity']].join(one_hot_data)\n",
        "golf_one_hot"
      ],
      "execution_count": 0,
      "outputs": [
        {
          "output_type": "execute_result",
          "data": {
            "text/html": [
              "<div>\n",
              "<style scoped>\n",
              "    .dataframe tbody tr th:only-of-type {\n",
              "        vertical-align: middle;\n",
              "    }\n",
              "\n",
              "    .dataframe tbody tr th {\n",
              "        vertical-align: top;\n",
              "    }\n",
              "\n",
              "    .dataframe thead th {\n",
              "        text-align: right;\n",
              "    }\n",
              "</style>\n",
              "<table border=\"1\" class=\"dataframe\">\n",
              "  <thead>\n",
              "    <tr style=\"text-align: right;\">\n",
              "      <th></th>\n",
              "      <th>Temperature</th>\n",
              "      <th>Humidity</th>\n",
              "      <th>Outlook_overcast</th>\n",
              "      <th>Outlook_rainy</th>\n",
              "      <th>Outlook_sunny</th>\n",
              "      <th>Windy_false</th>\n",
              "      <th>Windy_true</th>\n",
              "    </tr>\n",
              "  </thead>\n",
              "  <tbody>\n",
              "    <tr>\n",
              "      <th>0</th>\n",
              "      <td>92</td>\n",
              "      <td>40.3</td>\n",
              "      <td>0</td>\n",
              "      <td>0</td>\n",
              "      <td>1</td>\n",
              "      <td>1</td>\n",
              "      <td>0</td>\n",
              "    </tr>\n",
              "    <tr>\n",
              "      <th>1</th>\n",
              "      <td>86</td>\n",
              "      <td>63.1</td>\n",
              "      <td>0</td>\n",
              "      <td>0</td>\n",
              "      <td>1</td>\n",
              "      <td>0</td>\n",
              "      <td>1</td>\n",
              "    </tr>\n",
              "    <tr>\n",
              "      <th>2</th>\n",
              "      <td>83</td>\n",
              "      <td>35.3</td>\n",
              "      <td>1</td>\n",
              "      <td>0</td>\n",
              "      <td>0</td>\n",
              "      <td>1</td>\n",
              "      <td>0</td>\n",
              "    </tr>\n",
              "    <tr>\n",
              "      <th>3</th>\n",
              "      <td>70</td>\n",
              "      <td>86.3</td>\n",
              "      <td>0</td>\n",
              "      <td>1</td>\n",
              "      <td>0</td>\n",
              "      <td>1</td>\n",
              "      <td>0</td>\n",
              "    </tr>\n",
              "    <tr>\n",
              "      <th>4</th>\n",
              "      <td>60</td>\n",
              "      <td>72.4</td>\n",
              "      <td>0</td>\n",
              "      <td>1</td>\n",
              "      <td>0</td>\n",
              "      <td>1</td>\n",
              "      <td>0</td>\n",
              "    </tr>\n",
              "    <tr>\n",
              "      <th>5</th>\n",
              "      <td>53</td>\n",
              "      <td>22.7</td>\n",
              "      <td>0</td>\n",
              "      <td>1</td>\n",
              "      <td>0</td>\n",
              "      <td>0</td>\n",
              "      <td>1</td>\n",
              "    </tr>\n",
              "    <tr>\n",
              "      <th>6</th>\n",
              "      <td>62</td>\n",
              "      <td>27.0</td>\n",
              "      <td>1</td>\n",
              "      <td>0</td>\n",
              "      <td>0</td>\n",
              "      <td>0</td>\n",
              "      <td>1</td>\n",
              "    </tr>\n",
              "    <tr>\n",
              "      <th>7</th>\n",
              "      <td>75</td>\n",
              "      <td>80.7</td>\n",
              "      <td>0</td>\n",
              "      <td>0</td>\n",
              "      <td>1</td>\n",
              "      <td>1</td>\n",
              "      <td>0</td>\n",
              "    </tr>\n",
              "    <tr>\n",
              "      <th>8</th>\n",
              "      <td>57</td>\n",
              "      <td>15.4</td>\n",
              "      <td>0</td>\n",
              "      <td>0</td>\n",
              "      <td>1</td>\n",
              "      <td>1</td>\n",
              "      <td>0</td>\n",
              "    </tr>\n",
              "    <tr>\n",
              "      <th>9</th>\n",
              "      <td>72</td>\n",
              "      <td>25.1</td>\n",
              "      <td>0</td>\n",
              "      <td>1</td>\n",
              "      <td>0</td>\n",
              "      <td>1</td>\n",
              "      <td>0</td>\n",
              "    </tr>\n",
              "    <tr>\n",
              "      <th>10</th>\n",
              "      <td>78</td>\n",
              "      <td>18.6</td>\n",
              "      <td>0</td>\n",
              "      <td>0</td>\n",
              "      <td>1</td>\n",
              "      <td>0</td>\n",
              "      <td>1</td>\n",
              "    </tr>\n",
              "    <tr>\n",
              "      <th>11</th>\n",
              "      <td>69</td>\n",
              "      <td>58.3</td>\n",
              "      <td>1</td>\n",
              "      <td>0</td>\n",
              "      <td>0</td>\n",
              "      <td>0</td>\n",
              "      <td>1</td>\n",
              "    </tr>\n",
              "    <tr>\n",
              "      <th>12</th>\n",
              "      <td>81</td>\n",
              "      <td>27.2</td>\n",
              "      <td>1</td>\n",
              "      <td>0</td>\n",
              "      <td>0</td>\n",
              "      <td>1</td>\n",
              "      <td>0</td>\n",
              "    </tr>\n",
              "    <tr>\n",
              "      <th>13</th>\n",
              "      <td>71</td>\n",
              "      <td>39.3</td>\n",
              "      <td>0</td>\n",
              "      <td>1</td>\n",
              "      <td>0</td>\n",
              "      <td>0</td>\n",
              "      <td>1</td>\n",
              "    </tr>\n",
              "  </tbody>\n",
              "</table>\n",
              "</div>"
            ],
            "text/plain": [
              "    Temperature  Humidity  Outlook_overcast  Outlook_rainy  Outlook_sunny  \\\n",
              "0            92      40.3                 0              0              1   \n",
              "1            86      63.1                 0              0              1   \n",
              "2            83      35.3                 1              0              0   \n",
              "3            70      86.3                 0              1              0   \n",
              "4            60      72.4                 0              1              0   \n",
              "5            53      22.7                 0              1              0   \n",
              "6            62      27.0                 1              0              0   \n",
              "7            75      80.7                 0              0              1   \n",
              "8            57      15.4                 0              0              1   \n",
              "9            72      25.1                 0              1              0   \n",
              "10           78      18.6                 0              0              1   \n",
              "11           69      58.3                 1              0              0   \n",
              "12           81      27.2                 1              0              0   \n",
              "13           71      39.3                 0              1              0   \n",
              "\n",
              "    Windy_false  Windy_true  \n",
              "0             1           0  \n",
              "1             0           1  \n",
              "2             1           0  \n",
              "3             1           0  \n",
              "4             1           0  \n",
              "5             0           1  \n",
              "6             0           1  \n",
              "7             1           0  \n",
              "8             1           0  \n",
              "9             1           0  \n",
              "10            0           1  \n",
              "11            0           1  \n",
              "12            1           0  \n",
              "13            0           1  "
            ]
          },
          "metadata": {
            "tags": []
          },
          "execution_count": 6
        }
      ]
    },
    {
      "metadata": {
        "id": "YqwAOopHGlfA",
        "colab_type": "code",
        "colab": {}
      },
      "cell_type": "code",
      "source": [
        "clf = tree.DecisionTreeClassifier()\n",
        "\n",
        "clf_train = clf.fit(golf_one_hot, golf_df['Play'])"
      ],
      "execution_count": 0,
      "outputs": []
    },
    {
      "metadata": {
        "id": "TbI7pTXanegf",
        "colab_type": "code",
        "outputId": "7a42d0ee-d04c-42d8-dee1-fa0f2742924f",
        "colab": {
          "base_uri": "https://localhost:8080/",
          "height": 357
        }
      },
      "cell_type": "code",
      "source": [
        "print(tree.export_graphviz(clf_train, None))"
      ],
      "execution_count": 0,
      "outputs": [
        {
          "output_type": "stream",
          "text": [
            "digraph Tree {\n",
            "node [shape=box] ;\n",
            "0 [label=\"X[0] <= 84.5\\ngini = 0.459\\nsamples = 14\\nvalue = [5, 9]\"] ;\n",
            "1 [label=\"X[0] <= 55.0\\ngini = 0.375\\nsamples = 12\\nvalue = [3, 9]\"] ;\n",
            "0 -> 1 [labeldistance=2.5, labelangle=45, headlabel=\"True\"] ;\n",
            "2 [label=\"gini = 0.0\\nsamples = 1\\nvalue = [1, 0]\"] ;\n",
            "1 -> 2 ;\n",
            "3 [label=\"X[1] <= 37.3\\ngini = 0.298\\nsamples = 11\\nvalue = [2, 9]\"] ;\n",
            "1 -> 3 ;\n",
            "4 [label=\"gini = 0.0\\nsamples = 6\\nvalue = [0, 6]\"] ;\n",
            "3 -> 4 ;\n",
            "5 [label=\"X[0] <= 70.5\\ngini = 0.48\\nsamples = 5\\nvalue = [2, 3]\"] ;\n",
            "3 -> 5 ;\n",
            "6 [label=\"gini = 0.0\\nsamples = 3\\nvalue = [0, 3]\"] ;\n",
            "5 -> 6 ;\n",
            "7 [label=\"gini = 0.0\\nsamples = 2\\nvalue = [2, 0]\"] ;\n",
            "5 -> 7 ;\n",
            "8 [label=\"gini = 0.0\\nsamples = 2\\nvalue = [2, 0]\"] ;\n",
            "0 -> 8 [labeldistance=2.5, labelangle=-45, headlabel=\"False\"] ;\n",
            "}\n"
          ],
          "name": "stdout"
        }
      ]
    },
    {
      "metadata": {
        "id": "3ord0Zr-L4QQ",
        "colab_type": "code",
        "outputId": "0c581383-ace7-4bcb-a36a-f3fedbc9c43e",
        "colab": {
          "base_uri": "https://localhost:8080/",
          "height": 34
        }
      },
      "cell_type": "code",
      "source": [
        "# Running our prediction\n",
        "prediction = clf_train.predict([[72, 15.3, 0, 0, 1, 0, 1]])\n",
        "\n",
        "prediction"
      ],
      "execution_count": 0,
      "outputs": [
        {
          "output_type": "execute_result",
          "data": {
            "text/plain": [
              "array(['yes'], dtype=object)"
            ]
          },
          "metadata": {
            "tags": []
          },
          "execution_count": 9
        }
      ]
    },
    {
      "metadata": {
        "id": "V5oI1959L38r",
        "colab_type": "code",
        "colab": {}
      },
      "cell_type": "code",
      "source": [
        "import numpy as np\n",
        "import pandas as pd\n",
        "from sklearn import tree"
      ],
      "execution_count": 0,
      "outputs": []
    },
    {
      "metadata": {
        "id": "WBUnbZNpEoPV",
        "colab_type": "code",
        "colab": {}
      },
      "cell_type": "code",
      "source": [
        "golf_df = pd.DataFrame()"
      ],
      "execution_count": 0,
      "outputs": []
    },
    {
      "metadata": {
        "id": "vTpNd7xOE4f1",
        "colab_type": "code",
        "colab": {}
      },
      "cell_type": "code",
      "source": [
        "golf_df['Outlook'] = ['sunny', 'sunny', 'overcast', 'rainy']"
      ],
      "execution_count": 0,
      "outputs": []
    },
    {
      "metadata": {
        "id": "yw8mFXrEnguz",
        "colab_type": "text"
      },
      "cell_type": "markdown",
      "source": [
        ""
      ]
    }
  ]
}